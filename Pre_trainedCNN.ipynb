{
  "nbformat": 4,
  "nbformat_minor": 0,
  "metadata": {
    "colab": {
      "provenance": [],
      "authorship_tag": "ABX9TyM1zBsQ/KGzx4VYDf/zEeAj",
      "include_colab_link": true
    },
    "kernelspec": {
      "name": "python3",
      "display_name": "Python 3"
    },
    "language_info": {
      "name": "python"
    }
  },
  "cells": [
    {
      "cell_type": "markdown",
      "metadata": {
        "id": "view-in-github",
        "colab_type": "text"
      },
      "source": [
        "<a href=\"https://colab.research.google.com/github/BigyanBhatta/CNNs/blob/main/Pre_trainedCNN.ipynb\" target=\"_parent\"><img src=\"https://colab.research.google.com/assets/colab-badge.svg\" alt=\"Open In Colab\"/></a>"
      ]
    },
    {
      "cell_type": "code",
      "execution_count": null,
      "metadata": {
        "id": "AonnGfiuuPil"
      },
      "outputs": [],
      "source": [
        "import pandas as pd\n",
        "import numpy as np\n",
        "\n",
        "import keras\n",
        "from keras.preprocessing import image\n",
        "\n",
        "from keras.applications.resnet50 import ResNet50\n",
        "from keras.applications.resnet50 import preprocess_input, decode_predictions\n"
      ]
    },
    {
      "cell_type": "code",
      "source": [
        "model = ResNet50(weights = 'imagenet')\n"
      ],
      "metadata": {
        "id": "psuULVg6uZWV"
      },
      "execution_count": null,
      "outputs": []
    },
    {
      "cell_type": "code",
      "source": [
        "image_path = '/content/house.jpeg'\n",
        "img = keras.utils.load_img(image_path, target_size = (224,224))\n",
        "X = image.img_to_array(img)\n",
        "X = np.expand_dims(X, axis = 0)\n",
        "X = preprocess_input(X)"
      ],
      "metadata": {
        "id": "kZfWCoiVvDhn"
      },
      "execution_count": null,
      "outputs": []
    },
    {
      "cell_type": "code",
      "source": [
        "preds = model.predict(X)\n",
        "print('Predicted:', decode_predictions(preds, top=3)[0])\n"
      ],
      "metadata": {
        "colab": {
          "base_uri": "https://localhost:8080/"
        },
        "id": "vbV-KqqovsjS",
        "outputId": "07f644f5-93d0-41e1-e085-9f559f73accb"
      },
      "execution_count": null,
      "outputs": [
        {
          "output_type": "stream",
          "name": "stdout",
          "text": [
            "1/1 [==============================] - 1s 1s/step\n",
            "Predicted: [('n03028079', 'church', 0.8812424), ('n02859443', 'boathouse', 0.08181984), ('n02814860', 'beacon', 0.0072194496)]\n"
          ]
        }
      ]
    },
    {
      "cell_type": "code",
      "source": [],
      "metadata": {
        "id": "7qDThTrowXoY"
      },
      "execution_count": null,
      "outputs": []
    },
    {
      "cell_type": "code",
      "source": [],
      "metadata": {
        "id": "OPIiIoarySVA"
      },
      "execution_count": null,
      "outputs": []
    }
  ]
}